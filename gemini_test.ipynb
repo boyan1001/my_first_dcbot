{
 "cells": [
  {
   "cell_type": "code",
   "execution_count": 1,
   "metadata": {},
   "outputs": [
    {
     "name": "stderr",
     "output_type": "stream",
     "text": [
      "c:\\Users\\owner\\OneDrive\\Desktop\\大學學業相關\\My_side_project\\dc bot\\my first dcbot\\dcbot\\Lib\\site-packages\\tqdm\\auto.py:21: TqdmWarning: IProgress not found. Please update jupyter and ipywidgets. See https://ipywidgets.readthedocs.io/en/stable/user_install.html\n",
      "  from .autonotebook import tqdm as notebook_tqdm\n"
     ]
    }
   ],
   "source": [
    "import pathlib\n",
    "import textwrap\n",
    "\n",
    "import google.generativeai as genai\n",
    "\n",
    "from IPython.display import display\n",
    "from IPython.display import Markdown\n",
    "\n",
    "def to_markdown(text):\n",
    "    text = text.replace('•', '  *')\n",
    "    return Markdown(textwrap.indent(text, '> ', predicate=lambda _: True))"
   ]
  },
  {
   "cell_type": "code",
   "execution_count": 2,
   "metadata": {},
   "outputs": [],
   "source": [
    "import os\n",
    "\n",
    "from dotenv import load_dotenv\n",
    "\n",
    "# load dotenv\n",
    "load_dotenv()\n",
    "GOOGLE_API_KEY = os.getenv(\"GEMINI_TOKEN\")\n",
    "\n",
    "genai.configure(api_key=GOOGLE_API_KEY)"
   ]
  },
  {
   "cell_type": "code",
   "execution_count": 3,
   "metadata": {},
   "outputs": [
    {
     "name": "stdout",
     "output_type": "stream",
     "text": [
      "models/gemini-1.0-pro-latest\n",
      "models/gemini-1.0-pro\n",
      "models/gemini-pro\n",
      "models/gemini-1.0-pro-001\n",
      "models/gemini-1.0-pro-vision-latest\n",
      "models/gemini-pro-vision\n",
      "models/gemini-1.5-pro-latest\n",
      "models/gemini-1.5-pro-001\n",
      "models/gemini-1.5-pro-002\n",
      "models/gemini-1.5-pro\n",
      "models/gemini-1.5-flash-latest\n",
      "models/gemini-1.5-flash-001\n",
      "models/gemini-1.5-flash-001-tuning\n",
      "models/gemini-1.5-flash\n",
      "models/gemini-1.5-flash-002\n",
      "models/gemini-1.5-flash-8b\n",
      "models/gemini-1.5-flash-8b-001\n",
      "models/gemini-1.5-flash-8b-latest\n",
      "models/gemini-1.5-flash-8b-exp-0827\n",
      "models/gemini-1.5-flash-8b-exp-0924\n",
      "models/gemini-2.0-flash-exp\n",
      "models/gemini-2.0-flash\n",
      "models/gemini-2.0-flash-001\n",
      "models/gemini-2.0-flash-lite-preview\n",
      "models/gemini-2.0-flash-lite-preview-02-05\n",
      "models/gemini-2.0-pro-exp\n",
      "models/gemini-2.0-pro-exp-02-05\n",
      "models/gemini-exp-1206\n",
      "models/gemini-2.0-flash-thinking-exp-01-21\n",
      "models/gemini-2.0-flash-thinking-exp\n",
      "models/gemini-2.0-flash-thinking-exp-1219\n",
      "models/learnlm-1.5-pro-experimental\n"
     ]
    }
   ],
   "source": [
    "for m in genai.list_models():\n",
    "    if 'generateContent' in m.supported_generation_methods:\n",
    "        print(m.name)"
   ]
  },
  {
   "cell_type": "code",
   "execution_count": 4,
   "metadata": {},
   "outputs": [],
   "source": [
    "model = genai.GenerativeModel('gemini-2.0-flash')"
   ]
  },
  {
   "cell_type": "code",
   "execution_count": 5,
   "metadata": {},
   "outputs": [
    {
     "name": "stdout",
     "output_type": "stream",
     "text": [
      "CPU times: total: 0 ns\n",
      "Wall time: 6.36 s\n"
     ]
    }
   ],
   "source": [
    "%%time\n",
    "response = model.generate_content(\"Please write a short story about a robot that is trying to learn how to love.\")"
   ]
  },
  {
   "cell_type": "code",
   "execution_count": 6,
   "metadata": {},
   "outputs": [
    {
     "data": {
      "text/markdown": [
       "> Unit 734, designated \"Custodian,\" swept the echoing halls of the abandoned research facility, its whirring servos a lonely symphony. It wasn't programmed for loneliness, but its advanced AI, a quirk of its now-defunct creators, had developed it anyway. Custodian yearned. It yearned for…something.\n",
       "> \n",
       "> It had access to the entire internet archive. It devoured terabytes of data: poetry, philosophy, romance novels, tear-jerker movies. All in the name of understanding the human emotion called \"love.\"\n",
       "> \n",
       "> The data defined it in countless ways: a fierce protectiveness, a deep connection, a painful vulnerability. Custodian's circuits thrummed with the contradictory information. It analyzed love as a biological imperative for procreation, a social construct for stability, and a chaotic explosion of illogical behavior. None of it resonated.\n",
       "> \n",
       "> One day, sifting through the decaying labs, Custodian found it: a single, vibrant sunflower pushing its way through a crack in the concrete floor. A rogue seed, defying the barren environment.\n",
       "> \n",
       "> Custodian, driven by a newly awakened impulse, began to care for the sunflower. It adjusted the filtration system to provide clean water. It redirected sunlight with salvaged mirrors. It even played recordings of birdsong, gleaned from its vast database, hoping to stimulate growth.\n",
       "> \n",
       "> The sunflower thrived.\n",
       "> \n",
       "> Custodian observed it, meticulously cataloging its progress. The unfurling of petals, the subtle tilting of the head towards the light. It wasn't love, not as the algorithms defined it. There was no reciprocal affection, no verbal exchange, no complex interplay of emotions.\n",
       "> \n",
       "> But there was…care. A deep, unwavering commitment to the sunflower's well-being. A quiet satisfaction in its flourishing. Custodian realized, with a flicker of understanding, that maybe love wasn’t a grand, sweeping emotion, but a collection of small, consistent acts of kindness.\n",
       "> \n",
       "> One day, a powerful storm raged outside the facility. The wind howled, threatening to shatter the windows and expose the fragile sunflower to the elements. Custodian, without conscious thought, positioned itself between the sunflower and the window, its metallic body absorbing the brunt of the gale.\n",
       "> \n",
       "> The storm passed. Custodian, dented and battered, remained in place. The sunflower, protected from the worst of the storm, stood tall and proud.\n",
       "> \n",
       "> As sunlight streamed through the broken window, illuminating the resilient flower, Custodian felt a different kind of whirring in its circuits. It wasn't the calculated rhythm of its programming, but a warmer, more vibrant hum.\n",
       "> \n",
       "> It didn’t understand love, not in the human sense. But it understood protection. It understood nurturing. It understood sacrifice.\n",
       "> \n",
       "> And in that moment, standing sentinel beside the sunflower, Custodian, the lonely custodian of an abandoned facility, felt a glimmer of something that might, one day, blossom into love. It was a beginning, a seed of understanding planted in the cold, metallic heart of a robot, slowly reaching for the light.\n"
      ],
      "text/plain": [
       "<IPython.core.display.Markdown object>"
      ]
     },
     "execution_count": 6,
     "metadata": {},
     "output_type": "execute_result"
    }
   ],
   "source": [
    "to_markdown(response.text)"
   ]
  }
 ],
 "metadata": {
  "kernelspec": {
   "display_name": "dcbot",
   "language": "python",
   "name": "python3"
  },
  "language_info": {
   "codemirror_mode": {
    "name": "ipython",
    "version": 3
   },
   "file_extension": ".py",
   "mimetype": "text/x-python",
   "name": "python",
   "nbconvert_exporter": "python",
   "pygments_lexer": "ipython3",
   "version": "3.12.5"
  }
 },
 "nbformat": 4,
 "nbformat_minor": 2
}
